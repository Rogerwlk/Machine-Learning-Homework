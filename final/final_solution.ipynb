{
 "cells": [
  {
   "cell_type": "code",
   "execution_count": 1,
   "metadata": {},
   "outputs": [],
   "source": [
    "import numpy as np\n",
    "from sklearn.linear_model import Ridge\n",
    "from scipy.spatial.distance import cdist"
   ]
  },
  {
   "cell_type": "code",
   "execution_count": 2,
   "metadata": {},
   "outputs": [
    {
     "name": "stdout",
     "output_type": "stream",
     "text": [
      "(10000, 2776)\n",
      "(10000, 102)\n",
      "(2000, 2776)\n",
      "(2000, 102)\n",
      "(10000, 1000)\n",
      "(10000, 2048)\n",
      "\n",
      "(2000, 7077)\n",
      "(2000, 102)\n",
      "(2000, 1000)\n",
      "(2000, 2048)\n",
      "\n"
     ]
    }
   ],
   "source": [
    "# d: description, t: tag, f: 1000 feature, fi: 2048 intermediate features, bow: bag of word, intersection: bag is intersected from training bag and test bag\n",
    "d_train_bow_intersection = np.load('preprocessing/bagOfWord_intersection_train_description.npy')\n",
    "t_train_bow_intersection = np.load('preprocessing/bagOfWord_intersection_train_tag.npy')\n",
    "d_test_bow_intersection = np.load('preprocessing/bagOfWord_intersection_test_description.npy')\n",
    "t_test_bow_intersection = np.load('preprocessing/bagOfWord_intersection_test_tag.npy')\n",
    "f_train = np.load('preprocessing/word2vec_train_1000feature.npy')\n",
    "fi_train = np.load('preprocessing/word2vec_train_2048feature.npy')\n",
    "\n",
    "print(d_train_bow_intersection.shape)\n",
    "print(t_train_bow_intersection.shape)\n",
    "print(d_test_bow_intersection.shape)\n",
    "print(t_test_bow_intersection.shape)\n",
    "print(f_train.shape)\n",
    "print(fi_train.shape)\n",
    "print()\n",
    "\n",
    "d_test_bow = np.load('preprocessing/bagOfWord_test_description.npy')\n",
    "t_test_bow = np.load('preprocessing/bagOfWord_test_tag.npy')\n",
    "f_test = np.load('preprocessing/word2vec_test_1000feature.npy')\n",
    "fi_test = np.load('preprocessing/word2vec_test_2048feature.npy')\n",
    "\n",
    "print(d_test_bow.shape)\n",
    "print(t_test_bow.shape)\n",
    "print(f_test.shape)\n",
    "print(fi_test.shape)\n",
    "print()"
   ]
  },
  {
   "cell_type": "code",
   "execution_count": 3,
   "metadata": {},
   "outputs": [
    {
     "name": "stdout",
     "output_type": "stream",
     "text": [
      "(10000, 3150)\n",
      "(10000, 2776)\n",
      "(2000, 3150)\n"
     ]
    }
   ],
   "source": [
    "trainX = np.concatenate((t_train_bow_intersection, f_train, fi_train), axis=1)\n",
    "print(trainX.shape)\n",
    "trainY = d_train_bow_intersection\n",
    "print(trainY.shape)\n",
    "testX = np.concatenate((t_test_bow_intersection, f_test, fi_test), axis=1)\n",
    "print(testX.shape)\n",
    "query = d_test_bow_intersection"
   ]
  },
  {
   "cell_type": "code",
   "execution_count": 4,
   "metadata": {},
   "outputs": [],
   "source": [
    "def output_prediction(testY, filename):\n",
    "    distance = cdist(query, testY, 'euclidean')\n",
    "    f = open(filename, \"w\")\n",
    "    f.write(\"Descritpion_ID,Top_20_Image_IDs\\n\")\n",
    "    for i in range(2000):\n",
    "        test_dist_idx = list(np.argsort(distance[i]))\n",
    "        top_20 = test_dist_idx[:20]\n",
    "        row = [\"%d.jpg\" % i for i in top_20]\n",
    "        f.write(\"%d.txt,%s\\n\" % (i, \" \".join(row)))\n",
    "    f.close()\n",
    "    print(\"Output written!\")"
   ]
  },
  {
   "cell_type": "code",
   "execution_count": 5,
   "metadata": {},
   "outputs": [
    {
     "name": "stdout",
     "output_type": "stream",
     "text": [
      "Output written!\n"
     ]
    }
   ],
   "source": [
    "test_Y = Ridge(alpha=100).fit(trainX, trainY).predict(testX)\n",
    "output_prediction(test_Y, 'output/ridge_regression_alpha100_intersection_submission.csv')"
   ]
  }
 ],
 "metadata": {
  "kernelspec": {
   "display_name": "conda_python3",
   "language": "python",
   "name": "conda_python3"
  },
  "language_info": {
   "codemirror_mode": {
    "name": "ipython",
    "version": 3
   },
   "file_extension": ".py",
   "mimetype": "text/x-python",
   "name": "python",
   "nbconvert_exporter": "python",
   "pygments_lexer": "ipython3",
   "version": "3.6.5"
  }
 },
 "nbformat": 4,
 "nbformat_minor": 2
}
