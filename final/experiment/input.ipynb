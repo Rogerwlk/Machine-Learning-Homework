{
 "cells": [
  {
   "cell_type": "code",
   "execution_count": 6,
   "metadata": {},
   "outputs": [],
   "source": [
    "import glob, re"
   ]
  },
  {
   "cell_type": "code",
   "execution_count": 7,
   "metadata": {},
   "outputs": [
    {
     "name": "stdout",
     "output_type": "stream",
     "text": [
      "data/descriptions_test/1053.txt\n",
      "data/descriptions_test/1735.txt\n",
      "data/descriptions_test/1721.txt\n",
      "data/descriptions_test/1047.txt\n",
      "data/descriptions_test/1709.txt\n",
      "data/descriptions_test/289.txt\n",
      "data/descriptions_test/504.txt\n",
      "data/descriptions_test/1090.txt\n",
      "data/descriptions_test/262.txt\n",
      "data/descriptions_test/276.txt\n",
      "data/descriptions_test/1084.txt\n",
      "data/descriptions_test/510.txt\n",
      "data/descriptions_test/538.txt\n",
      "data/descriptions_test/1912.txt\n",
      "data/descriptions_test/1906.txt\n",
      "data/descriptions_test/1537.txt\n",
      "data/descriptions_test/1251.txt\n",
      "data/descriptions_test/909.txt\n",
      "data/descriptions_test/1245.txt\n",
      "data/descriptions_test/1523.txt\n",
      "data/descriptions_test/921.txt\n",
      "data/descriptions_test/935.txt\n",
      "data/descriptions_test/1279.txt\n",
      "data/descriptions_test/1292.txt\n",
      "data/descriptions_test/706.txt\n",
      "data/descriptions_test/712.txt\n",
      "data/descriptions_test/1286.txt\n",
      "data/descriptions_test/1443.txt\n",
      "data/descriptions_test/29.txt\n",
      "data/descriptions_test/1325.txt\n",
      "data/descriptions_test/869.txt\n",
      "data/descriptions_test/1331.txt\n",
      "data/descriptions_test/1457.txt\n",
      "data/descriptions_test/15.txt\n",
      "data/descriptions_test/1319.txt\n",
      "data/descriptions_test/855.txt\n",
      "data/descriptions_test/699.txt\n",
      "data/descriptions_test/841.txt\n",
      "data/descriptions_test/1480.txt\n",
      "data/descriptions_test/114.txt\n",
      "data/descriptions_test/672.txt\n"
     ]
    },
    {
     "ename": "IndexError",
     "evalue": "string index out of range",
     "output_type": "error",
     "traceback": [
      "\u001b[0;31m---------------------------------------------------------------------------\u001b[0m",
      "\u001b[0;31mIndexError\u001b[0m                                Traceback (most recent call last)",
      "\u001b[0;32m<ipython-input-7-d3fc4a215cab>\u001b[0m in \u001b[0;36m<module>\u001b[0;34m()\u001b[0m\n\u001b[1;32m     31\u001b[0m         \u001b[0moutput_file\u001b[0m\u001b[0;34m.\u001b[0m\u001b[0mwrite\u001b[0m\u001b[0;34m(\u001b[0m\u001b[0;34m'\\n'\u001b[0m\u001b[0;34m)\u001b[0m\u001b[0;34m\u001b[0m\u001b[0m\n\u001b[1;32m     32\u001b[0m     \u001b[0moutput_file\u001b[0m\u001b[0;34m.\u001b[0m\u001b[0mclose\u001b[0m\u001b[0;34m(\u001b[0m\u001b[0;34m)\u001b[0m\u001b[0;34m\u001b[0m\u001b[0m\n\u001b[0;32m---> 33\u001b[0;31m \u001b[0mread_files\u001b[0m\u001b[0;34m(\u001b[0m\u001b[0;34m'data/descriptions_test'\u001b[0m\u001b[0;34m,\u001b[0m \u001b[0;34m'descriptions_text.txt'\u001b[0m\u001b[0;34m)\u001b[0m\u001b[0;34m\u001b[0m\u001b[0m\n\u001b[0m",
      "\u001b[0;32m<ipython-input-7-d3fc4a215cab>\u001b[0m in \u001b[0;36mread_files\u001b[0;34m(input_path, output_file)\u001b[0m\n\u001b[1;32m     25\u001b[0m             \u001b[0mline\u001b[0m \u001b[0;34m=\u001b[0m \u001b[0mline\u001b[0m\u001b[0;34m.\u001b[0m\u001b[0mstrip\u001b[0m\u001b[0;34m(\u001b[0m\u001b[0;34m)\u001b[0m\u001b[0;34m\u001b[0m\u001b[0m\n\u001b[1;32m     26\u001b[0m             \u001b[0mline\u001b[0m \u001b[0;34m=\u001b[0m \u001b[0mline\u001b[0m\u001b[0;34m.\u001b[0m\u001b[0mlower\u001b[0m\u001b[0;34m(\u001b[0m\u001b[0;34m)\u001b[0m\u001b[0;34m\u001b[0m\u001b[0m\n\u001b[0;32m---> 27\u001b[0;31m             \u001b[0;32mif\u001b[0m \u001b[0mline\u001b[0m\u001b[0;34m[\u001b[0m\u001b[0;34m-\u001b[0m\u001b[0;36m1\u001b[0m\u001b[0;34m]\u001b[0m \u001b[0;34m==\u001b[0m \u001b[0;34m'.'\u001b[0m\u001b[0;34m:\u001b[0m\u001b[0;34m\u001b[0m\u001b[0m\n\u001b[0m\u001b[1;32m     28\u001b[0m                 \u001b[0mline\u001b[0m \u001b[0;34m=\u001b[0m \u001b[0mline\u001b[0m\u001b[0;34m[\u001b[0m\u001b[0;34m:\u001b[0m\u001b[0;34m-\u001b[0m\u001b[0;36m1\u001b[0m\u001b[0;34m]\u001b[0m\u001b[0;34m\u001b[0m\u001b[0m\n\u001b[1;32m     29\u001b[0m             \u001b[0mout\u001b[0m \u001b[0;34m+=\u001b[0m \u001b[0mre\u001b[0m\u001b[0;34m.\u001b[0m\u001b[0msplit\u001b[0m\u001b[0;34m(\u001b[0m\u001b[0;34mr'[: ]'\u001b[0m\u001b[0;34m,\u001b[0m \u001b[0mline\u001b[0m\u001b[0;34m)\u001b[0m\u001b[0;34m\u001b[0m\u001b[0m\n",
      "\u001b[0;31mIndexError\u001b[0m: string index out of range"
     ]
    }
   ],
   "source": [
    "def read_files(input_path, output_file):\n",
    "    # format input_path to ./input_path/\n",
    "    if input_path[0] == '/':\n",
    "        input_path = '.' + input_path\n",
    "    if input_path[-1] != '/':\n",
    "        input_path += '/'\n",
    "    \n",
    "    #read stop words\n",
    "    stop_words = set()\n",
    "    f = open('stops.txt', 'r')\n",
    "    for line in f:\n",
    "        stop_words.add(line.strip())\n",
    "    f.close()\n",
    "    \n",
    "    files = glob.glob(input_path+'*') # grab all the files under path\n",
    "    output_file = open(output_file, 'w') # open output file\n",
    "    get_num = re.compile(r'(\\d+)')\n",
    "    for file in files:\n",
    "        print(file)\n",
    "        f = open(file, 'r')\n",
    "        name = get_num.search(file).group(1)\n",
    "        output_file.write(name+',')\n",
    "        out = []\n",
    "        for line in f:\n",
    "            line = line.strip()\n",
    "            line = line.lower()\n",
    "            if line[-1] == '.':\n",
    "                line = line[:-1]\n",
    "            out += re.split(r'[: ]', line)\n",
    "        output_file.write(','.join(out))\n",
    "        output_file.write('\\n')\n",
    "    output_file.close()\n",
    "read_files('data/descriptions_test', 'descriptions_text.txt')"
   ]
  },
  {
   "cell_type": "code",
   "execution_count": null,
   "metadata": {},
   "outputs": [],
   "source": []
  },
  {
   "cell_type": "code",
   "execution_count": null,
   "metadata": {},
   "outputs": [],
   "source": []
  }
 ],
 "metadata": {
  "kernelspec": {
   "display_name": "Python 3",
   "language": "python",
   "name": "python3"
  },
  "language_info": {
   "codemirror_mode": {
    "name": "ipython",
    "version": 3
   },
   "file_extension": ".py",
   "mimetype": "text/x-python",
   "name": "python",
   "nbconvert_exporter": "python",
   "pygments_lexer": "ipython3",
   "version": "3.6.5"
  }
 },
 "nbformat": 4,
 "nbformat_minor": 2
}
