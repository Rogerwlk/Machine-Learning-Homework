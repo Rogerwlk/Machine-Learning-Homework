{
 "cells": [
  {
   "cell_type": "code",
   "execution_count": 1,
   "metadata": {},
   "outputs": [],
   "source": [
    "import glob, re, nltk\n",
    "from collections import Counter"
   ]
  },
  {
   "cell_type": "code",
   "execution_count": 2,
   "metadata": {},
   "outputs": [],
   "source": [
    "single_term_idx = Counter()\n",
    "#read stop words\n",
    "stop_words = set()\n",
    "f = open('stops.txt', 'r')\n",
    "for line in f:\n",
    "    stop_words.add(line.strip())\n",
    "f.close()"
   ]
  },
  {
   "cell_type": "code",
   "execution_count": 3,
   "metadata": {},
   "outputs": [],
   "source": [
    "def removeHyphen(match):\n",
    "    return match.group().replace('-', '')\n",
    "\n",
    "def hyphenReplace(line, regex, docno):\n",
    "    words = regex.finditer(line)\n",
    "    if words:\n",
    "        for i in words:\n",
    "            word = i.group()\n",
    "            li = word.split('-')\n",
    "            for item in li:\n",
    "                if not item in stop_words:\n",
    "                    single_term_idx[(item, docno)] += 1\n",
    "        line = regex.sub(removeHyphen, line)\n",
    "    return line\n",
    "\n",
    "def prefixReplace(line, regex, docno):\n",
    "    words = regex.finditer(line)\n",
    "    if words:\n",
    "        for word in words:\n",
    "            stem = word.group(2)\n",
    "            if not stem in stop_words:\n",
    "                single_term_idx[(stem, docno)] += 1\n",
    "        line = regex.sub(r'\\g<1>\\g<2>', line)\n",
    "    return line"
   ]
  },
  {
   "cell_type": "code",
   "execution_count": 4,
   "metadata": {},
   "outputs": [],
   "source": [
    "def writeToFile(index_table):\n",
    "    # write to output\n",
    "    output_file = open('single_term_idx_table.txt', 'w')\n",
    "    for key in sorted(index_table.keys()):\n",
    "        output_file.write(' '.join(str(x) for x in key)+' '+str(index_table[key])+'\\n')\n",
    "    output_file.close()\n",
    "\n",
    "def createIndexTable(input_path):\n",
    "    # format input_path to ./input_path/\n",
    "    if input_path[0] == '/':\n",
    "        input_path = '.' + input_path\n",
    "    if input_path[-1] != '/':\n",
    "        input_path += '/'\n",
    "\n",
    "    files = glob.glob(input_path+'*') # grab all the files under path\n",
    "    get_num = re.compile(r'(\\d+)')\n",
    "    p_prefix = re.compile(r'\\b(a|an|ante|anti|auto|circum|co|com|con|contra|contro|de|dis|en|em|ex|extra|fore|hetero|homo|homeo|hyper|il|im|in|ir|inter|intra|intro|macro|micro|mid|mis|mono|non|omni|over|post|pre|pro|re|semi|sub|super|sym|syn|trans|tri|un|under|uni)-([a-z])+\\b', re.I)\n",
    "    p_hyphen = re.compile(r'\\b(\\w+-)+\\w+\\b')\n",
    "    \n",
    "    for file in files:\n",
    "        f = open(file, 'r')\n",
    "        docno = int(get_num.search(file).group(1))\n",
    "        for line in f:\n",
    "            line = line.strip()\n",
    "            line = line.lower()\n",
    "            # grep prefix\n",
    "            line = prefixReplace(line, p_prefix, docno)\n",
    "            # grep hyphenated word\n",
    "            line = hyphenReplace(line, p_hyphen, docno)\n",
    "            line = line.replace(':', ' ')\n",
    "            li = nltk.word_tokenize(line)\n",
    "            for word in li:\n",
    "                if not word in stop_words:\n",
    "                    # build single term idx\n",
    "                    single_term_idx[(word, docno)] += 1\n",
    "\n",
    "createIndexTable('data/tags_test')\n",
    "# writeToFile(single_term_idx)\n"
   ]
  },
  {
   "cell_type": "code",
   "execution_count": null,
   "metadata": {},
   "outputs": [],
   "source": []
  }
 ],
 "metadata": {
  "kernelspec": {
   "display_name": "Python 3",
   "language": "python",
   "name": "python3"
  },
  "language_info": {
   "codemirror_mode": {
    "name": "ipython",
    "version": 3
   },
   "file_extension": ".py",
   "mimetype": "text/x-python",
   "name": "python",
   "nbconvert_exporter": "python",
   "pygments_lexer": "ipython3",
   "version": "3.6.5"
  }
 },
 "nbformat": 4,
 "nbformat_minor": 2
}
