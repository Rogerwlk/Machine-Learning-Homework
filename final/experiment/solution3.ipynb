{
 "cells": [
  {
   "cell_type": "code",
   "execution_count": 1,
   "metadata": {},
   "outputs": [],
   "source": [
    "import numpy as np\n",
    "from sklearn.linear_model import LinearRegression # 0.32\n",
    "# from sklearn.linear_model import MultiTaskLassoCV # too slow\n",
    "# from sklearn.linear_model import Lasso # too slow\n",
    "from sklearn.linear_model import Ridge # best one so far\n",
    "from sklearn.linear_model import RidgeCV\n",
    "from sklearn.linear_model import ElasticNet # haven't tried, worth trying\n",
    "from sklearn.kernel_ridge import KernelRidge # haven't tried, similar to SVR\n",
    "# from sklearn.ensemble import RandomForestRegressor # poor performance 0.05 with word2vec\n",
    "# from sklearn.cross_decomposition import PLSRegression # worse than Ridge\n",
    "# from sklearn.cross_decomposition import PLSCanonical # haven't tried\n",
    "# from sklearn.svm import SVR # haven't tried\n",
    "# from sklearn.svm import SVC # haven't tried\n",
    "# from sklearn.svm import LinearSVC # haven't tried\n",
    "from scipy.spatial.distance import cdist\n",
    "from sklearn.model_selection import train_test_split"
   ]
  },
  {
   "cell_type": "code",
   "execution_count": 2,
   "metadata": {},
   "outputs": [
    {
     "name": "stdout",
     "output_type": "stream",
     "text": [
      "(10000, 7077)\n",
      "(10000, 102)\n",
      "(10000, 1000)\n",
      "(10000, 2048)\n",
      "\n",
      "(2000, 7077)\n",
      "(2000, 102)\n",
      "(2000, 1000)\n",
      "(2000, 2048)\n",
      "\n",
      "(10000, 7077)\n",
      "(10000, 102)\n",
      "(2000, 7077)\n",
      "(2000, 102)\n",
      "\n",
      "(10000, 2776)\n",
      "(10000, 102)\n",
      "(2000, 2776)\n",
      "(2000, 102)\n",
      "\n",
      "(10000, 2776)\n",
      "(10000, 102)\n",
      "(2000, 2776)\n",
      "(2000, 102)\n",
      "\n"
     ]
    }
   ],
   "source": [
    "# d: description, t: tag, f: 1000 feature, fi: 2048 intermediate features, bow: bag of word, w2v: word 2 vector\n",
    "# w2v poor performance\n",
    "d_train_bow = np.load('preprocessing/bagOfWord_train_description.npy')\n",
    "# d_train_w2v = np.load('preprocessing/word2vec_train_description.npy')\n",
    "t_train_bow = np.load('preprocessing/bagOfWord_train_tag.npy')\n",
    "# t_train_w2v = np.load('preprocessing/word2vec_train_tag.npy')\n",
    "f_train = np.load('preprocessing/word2vec_train_1000feature.npy')\n",
    "fi_train = np.load('preprocessing/word2vec_train_2048feature.npy')\n",
    "\n",
    "print(d_train_bow.shape)\n",
    "# print(d_train_w2v.shape)\n",
    "print(t_train_bow.shape)\n",
    "# print(t_train_w2v.shape)\n",
    "print(f_train.shape)\n",
    "print(fi_train.shape)\n",
    "print()\n",
    "\n",
    "d_test_bow = np.load('preprocessing/bagOfWord_test_description.npy')\n",
    "# d_test_w2v = np.load('preprocessing/word2vec_test_description.npy')\n",
    "t_test_bow = np.load('preprocessing/bagOfWord_test_tag.npy')\n",
    "# t_test_w2v = np.load('preprocessing/word2vec_test_tag.npy')\n",
    "f_test = np.load('preprocessing/word2vec_test_1000feature.npy')\n",
    "fi_test = np.load('preprocessing/word2vec_test_2048feature.npy')\n",
    "\n",
    "print(d_test_bow.shape)\n",
    "# print(d_test_w2v.shape)\n",
    "print(t_test_bow.shape)\n",
    "# print(t_test_w2v.shape)\n",
    "print(f_test.shape)\n",
    "print(fi_test.shape)\n",
    "print()\n",
    "\n",
    "# no idf bow\n",
    "d_train_bow_no_idf = np.load('preprocessing/bagOfWord_train_description_no_idf.npy')\n",
    "t_train_bow_no_idf = np.load('preprocessing/bagOfWord_train_tag_no_idf.npy')\n",
    "d_test_bow_no_idf = np.load('preprocessing/bagOfWord_test_description_no_idf.npy')\n",
    "t_test_bow_no_idf = np.load('preprocessing/bagOfWord_test_tag_no_idf.npy')\n",
    "\n",
    "print(d_train_bow_no_idf.shape)\n",
    "print(t_train_bow_no_idf.shape)\n",
    "print(d_test_bow_no_idf.shape)\n",
    "print(t_test_bow_no_idf.shape)\n",
    "print()\n",
    "\n",
    "# intersection idf and no idf\n",
    "d_train_bow_intersection = np.load('preprocessing/bagOfWord_intersection_train_description.npy')\n",
    "t_train_bow_intersection = np.load('preprocessing/bagOfWord_intersection_train_tag.npy')\n",
    "d_test_bow_intersection = np.load('preprocessing/bagOfWord_intersection_test_description.npy')\n",
    "t_test_bow_intersection = np.load('preprocessing/bagOfWord_intersection_test_tag.npy')\n",
    "\n",
    "print(d_train_bow_intersection.shape)\n",
    "print(t_train_bow_intersection.shape)\n",
    "print(d_test_bow_intersection.shape)\n",
    "print(t_test_bow_intersection.shape)\n",
    "print()\n",
    "\n",
    "d_train_bow_intersection_no_idf = np.load('preprocessing/bagOfWord_intersection_train_description_no_idf.npy')\n",
    "t_train_bow_intersection_no_idf = np.load('preprocessing/bagOfWord_intersection_train_tag_no_idf.npy')\n",
    "d_test_bow_intersection_no_idf = np.load('preprocessing/bagOfWord_intersection_test_description_no_idf.npy')\n",
    "t_test_bow_intersection_no_idf = np.load('preprocessing/bagOfWord_intersection_test_tag_no_idf.npy')\n",
    "\n",
    "print(d_train_bow_intersection_no_idf.shape)\n",
    "print(t_train_bow_intersection_no_idf.shape)\n",
    "print(d_test_bow_intersection_no_idf.shape)\n",
    "print(t_test_bow_intersection_no_idf.shape)\n",
    "print()"
   ]
  },
  {
   "cell_type": "code",
   "execution_count": null,
   "metadata": {},
   "outputs": [],
   "source": [
    "trainX = np.concatenate((t_train_bow_intersection, f_train, fi_train), axis=1)\n",
    "print(trainX.shape)\n",
    "trainY = d_train_bow_intersection\n",
    "print(trainY.shape)\n",
    "testX = np.concatenate((t_test_bow_intersection, f_test, fi_test), axis=1)\n",
    "print(testX.shape)\n",
    "query = d_test_bow_intersection"
   ]
  },
  {
   "cell_type": "code",
   "execution_count": 4,
   "metadata": {},
   "outputs": [],
   "source": [
    "def output_prediction(testY, filename):\n",
    "    distance = cdist(query, testY, 'euclidean')\n",
    "    f = open(filename, \"w\")\n",
    "    f.write(\"Descritpion_ID,Top_20_Image_IDs\\n\")\n",
    "    for i in range(2000):\n",
    "        test_dist_idx = list(np.argsort(distance[i]))\n",
    "        top_20 = test_dist_idx[:20]\n",
    "        row = [\"%d.jpg\" % i for i in top_20]\n",
    "        f.write(\"%d.txt,%s\\n\" % (i, \" \".join(row)))\n",
    "    f.close()\n",
    "    print(\"Output written!\")"
   ]
  },
  {
   "cell_type": "code",
   "execution_count": null,
   "metadata": {},
   "outputs": [],
   "source": [
    "testY = LinearRegression(n_jobs=-1).fit(trainX, trainY).predict(testX)\n",
    "output_prediction(testY, 'output/linear_regression_submission.csv')"
   ]
  },
  {
   "cell_type": "code",
   "execution_count": null,
   "metadata": {},
   "outputs": [],
   "source": [
    "# too slow\n",
    "lasso = Lasso(alpha=1, selection='random').fit(trainX, trainY)"
   ]
  },
  {
   "cell_type": "code",
   "execution_count": null,
   "metadata": {},
   "outputs": [],
   "source": [
    "# too slow\n",
    "lasso1 = MultiTaskLassoCV(alphas=[0.01], max_iter=100, selection='random', n_jobs=-1).fit(trainX, trainY)\n",
    "print(lasso1.alpha_)"
   ]
  },
  {
   "cell_type": "code",
   "execution_count": null,
   "metadata": {},
   "outputs": [],
   "source": [
    "# too slow\n",
    "lasso = Lasso(alpha=1, selection='random').fit(trainX, trainY)"
   ]
  },
  {
   "cell_type": "code",
   "execution_count": null,
   "metadata": {},
   "outputs": [],
   "source": [
    "# too slow\n",
    "new_alpha = {0.0001:[0.0001, 0.0002, 0.0003, 0.0004],\n",
    "            0.0005:[0.0005, 0.0006, 0.0007, 0.0008],\n",
    "            0.001:[0.001, 0.002, 0.003, 0.004],\n",
    "            0.005:[0.005,0.006,0.007,0.008],\n",
    "            0.01:[0.01,0.02,0.03,0.04],\n",
    "            0.05:[0.05,0.06,0.07,0.08],\n",
    "            0.1:[0.1,0.2,0.3,0.4],\n",
    "            0.5:[0.5,0.6,0.7,0.8]}\n",
    "lasso2 = MultiTaskLassoCV(alphas=new_alpha[lasso1.alpha_], n_jobs=-1).fit(trainX, trainY)\n",
    "print(lasso2.alpha_)"
   ]
  },
  {
   "cell_type": "code",
   "execution_count": null,
   "metadata": {},
   "outputs": [],
   "source": [
    "# too slow\n",
    "testY = lasso2.predict(testX)\n",
    "output_prediction( testY, 'output/lasso_regression_alpha'+str(lasso2.alpha_)+'submission.csv')"
   ]
  },
  {
   "cell_type": "code",
   "execution_count": null,
   "metadata": {},
   "outputs": [],
   "source": [
    "testY = Ridge(alpha=1).fit(trainX, trainY).predict(testX)\n",
    "output_prediction(testY, 'output/ridge_regression_alpha1.csv')"
   ]
  },
  {
   "cell_type": "code",
   "execution_count": null,
   "metadata": {},
   "outputs": [],
   "source": [
    "testY = Ridge(alpha=0.1).fit(trainX, trainY).predict(testX)\n",
    "output_prediction(testY, 'output/ridge_regression_alpha0.1_submission.csv')\n",
    "# worse than alpha=1"
   ]
  },
  {
   "cell_type": "code",
   "execution_count": null,
   "metadata": {},
   "outputs": [],
   "source": [
    "testY = Ridge(alpha=2).fit(trainX, trainY).predict(testX)\n",
    "output_prediction(testY, 'output/ridge_regression_alpha2_submission.csv')\n",
    "# slightly better than alpha=1"
   ]
  },
  {
   "cell_type": "code",
   "execution_count": null,
   "metadata": {},
   "outputs": [],
   "source": [
    "testY = Ridge(alpha=5).fit(trainX, trainY).predict(testX)\n",
    "output_prediction(testY, 'output/ridge_regression_alpha5_submission.csv')\n",
    "# slightly better than alpha=2"
   ]
  },
  {
   "cell_type": "code",
   "execution_count": null,
   "metadata": {},
   "outputs": [],
   "source": [
    "testY = Ridge(alpha=10).fit(trainX, trainY).predict(testX)\n",
    "output_prediction(testY, 'output/ridge_regression_alpha10_submission.csv')\n",
    "# slightly better than alpha=5"
   ]
  },
  {
   "cell_type": "code",
   "execution_count": null,
   "metadata": {},
   "outputs": [],
   "source": [
    "testY = Ridge(alpha=15).fit(trainX, trainY).predict(testX)\n",
    "output_prediction(testY, 'output/ridge_regression_alpha15_submission.csv')\n",
    "# slightly better than alpha=10"
   ]
  },
  {
   "cell_type": "code",
   "execution_count": null,
   "metadata": {},
   "outputs": [],
   "source": [
    "testY = Ridge(alpha=20).fit(trainX, trainY).predict(testX)\n",
    "output_prediction(testY, 'output/ridge_regression_alpha20_submission.csv')\n",
    "# slightly better than alpha=15"
   ]
  },
  {
   "cell_type": "code",
   "execution_count": null,
   "metadata": {},
   "outputs": [],
   "source": [
    "testY = Ridge(alpha=30).fit(trainX, trainY).predict(testX)\n",
    "output_prediction(testY, 'output/ridge_regression_alpha30_submission.csv')\n",
    "# slightly better than alpha=20"
   ]
  },
  {
   "cell_type": "code",
   "execution_count": null,
   "metadata": {},
   "outputs": [],
   "source": [
    "testY = Ridge(alpha=50).fit(trainX, trainY).predict(testX)\n",
    "output_prediction(testY, 'output/ridge_regression_alpha50_submission.csv')\n",
    "# slightly better than alpha=30"
   ]
  },
  {
   "cell_type": "code",
   "execution_count": null,
   "metadata": {},
   "outputs": [],
   "source": [
    "testY = Ridge(alpha=100).fit(trainX, trainY).predict(testX)\n",
    "output_prediction(testY, 'output/ridge_regression_alpha100_submission.csv')\n",
    "# slightly better than alpha=50, the best so far"
   ]
  },
  {
   "cell_type": "code",
   "execution_count": null,
   "metadata": {},
   "outputs": [],
   "source": [
    "testY = Ridge(alpha=200).fit(trainX, trainY).predict(testX)\n",
    "output_prediction(testY, 'output/ridge_regression_alpha200_submission.csv')\n",
    "# slightly worse than alpha=100"
   ]
  },
  {
   "cell_type": "code",
   "execution_count": null,
   "metadata": {},
   "outputs": [],
   "source": [
    "testY = Ridge(alpha=150).fit(trainX, trainY).predict(testX)\n",
    "output_prediction(testY, 'output/ridge_regression_alpha150_submission.csv')\n",
    "# slightly worse than alpha=100"
   ]
  },
  {
   "cell_type": "code",
   "execution_count": null,
   "metadata": {},
   "outputs": [],
   "source": [
    "testY = Ridge(alpha=125).fit(trainX, trainY).predict(testX)\n",
    "output_prediction(testY, 'output/ridge_regression_alpha125_submission.csv')\n",
    "# slightly worse than alpha=100"
   ]
  },
  {
   "cell_type": "code",
   "execution_count": null,
   "metadata": {},
   "outputs": [],
   "source": [
    "testY = Ridge(alpha=75).fit(trainX, trainY).predict(testX)\n",
    "output_prediction(testY, 'output/ridge_regression_alpha75_submission.csv')\n",
    "# slightly worse than alpha=100"
   ]
  },
  {
   "cell_type": "code",
   "execution_count": 14,
   "metadata": {},
   "outputs": [
    {
     "name": "stdout",
     "output_type": "stream",
     "text": [
      "(10000, 3150)\n",
      "(10000, 2776)\n",
      "(2000, 3150)\n",
      "0.28641282293870873\n",
      "0.29023530482485244\n",
      "0.2887009392175183\n",
      "0.30067964130853636\n",
      "0.3037845207051722\n",
      "0.302127857744366\n",
      "0.3036424836379612\n",
      "0.306276656783759\n",
      "0.30454101600335604\n"
     ]
    }
   ],
   "source": [
    "trainX = np.concatenate((t_train_bow_intersection, f_train, fi_train), axis=1)\n",
    "print(trainX.shape)\n",
    "trainY = d_train_bow_intersection\n",
    "print(trainY.shape)\n",
    "testX = np.concatenate((t_test_bow_intersection, f_test, fi_test), axis=1)\n",
    "print(testX.shape)\n",
    "query = d_test_bow_intersection\n",
    "\n",
    "copyX, devX, copyY, devY = train_test_split(trainX, trainY, test_size=0.2, random_state=42)\n",
    "ridge = Ridge(alpha=50).fit(copyX,copyY)\n",
    "print(ridge.score(devX, devY))\n",
    "\n",
    "copyX, devX, copyY, devY = train_test_split(trainX, trainY, test_size=0.2, random_state=785)\n",
    "ridge = Ridge(alpha=50).fit(copyX,copyY)\n",
    "print(ridge.score(devX, devY))\n",
    "\n",
    "copyX, devX, copyY, devY = train_test_split(trainX, trainY, test_size=0.2, random_state=349)\n",
    "ridge = Ridge(alpha=50).fit(copyX,copyY)\n",
    "print(ridge.score(devX, devY))\n",
    "\n",
    "copyX, devX, copyY, devY = train_test_split(trainX, trainY, test_size=0.2, random_state=42)\n",
    "ridge = Ridge(alpha=100).fit(copyX,copyY)\n",
    "print(ridge.score(devX, devY))\n",
    "\n",
    "copyX, devX, copyY, devY = train_test_split(trainX, trainY, test_size=0.2, random_state=785)\n",
    "ridge = Ridge(alpha=100).fit(copyX,copyY)\n",
    "print(ridge.score(devX, devY))\n",
    "\n",
    "copyX, devX, copyY, devY = train_test_split(trainX, trainY, test_size=0.2, random_state=349)\n",
    "ridge = Ridge(alpha=100).fit(copyX,copyY)\n",
    "print(ridge.score(devX, devY))\n",
    "\n",
    "copyX, devX, copyY, devY = train_test_split(trainX, trainY, test_size=0.2, random_state=42)\n",
    "ridge = Ridge(alpha=150).fit(copyX,copyY)\n",
    "print(ridge.score(devX, devY))\n",
    "\n",
    "copyX, devX, copyY, devY = train_test_split(trainX, trainY, test_size=0.2, random_state=785)\n",
    "ridge = Ridge(alpha=150).fit(copyX,copyY)\n",
    "print(ridge.score(devX, devY))\n",
    "\n",
    "copyX, devX, copyY, devY = train_test_split(trainX, trainY, test_size=0.2, random_state=349)\n",
    "ridge = Ridge(alpha=150).fit(copyX,copyY)\n",
    "print(ridge.score(devX, devY))"
   ]
  },
  {
   "cell_type": "code",
   "execution_count": 18,
   "metadata": {},
   "outputs": [
    {
     "name": "stdout",
     "output_type": "stream",
     "text": [
      "(10000, 3150)\n",
      "(10000, 2776)\n",
      "(2000, 3150)\n",
      "0.33811885469527364\n",
      "0.3382689393184896\n",
      "0.33834491868620037\n",
      "0.33835786303376914\n",
      "0.33831700763524014\n",
      "\n",
      "0.33835786303376914 105\n"
     ]
    }
   ],
   "source": [
    "trainX = np.concatenate((t_train_bow_intersection_no_idf, f_train, fi_train), axis=1)\n",
    "print(trainX.shape)\n",
    "trainY = d_train_bow_intersection_no_idf\n",
    "print(trainY.shape)\n",
    "testX = np.concatenate((t_test_bow_intersection_no_idf, f_test, fi_test), axis=1)\n",
    "print(testX.shape)\n",
    "query = d_test_bow_intersection_no_idf\n",
    "\n",
    "def test(alpha):\n",
    "    s = 0\n",
    "    copyX, devX, copyY, devY = train_test_split(trainX, trainY, test_size=0.2, random_state=457)\n",
    "    ridge = Ridge(alpha=alpha).fit(copyX,copyY)\n",
    "    s += ridge.score(devX, devY)\n",
    "\n",
    "    copyX, devX, copyY, devY = train_test_split(trainX, trainY, test_size=0.2, random_state=27)\n",
    "    ridge = Ridge(alpha=alpha).fit(copyX,copyY)\n",
    "    s += ridge.score(devX, devY)\n",
    "\n",
    "    copyX, devX, copyY, devY = train_test_split(trainX, trainY, test_size=0.2, random_state=4778)\n",
    "    ridge = Ridge(alpha=alpha).fit(copyX,copyY)\n",
    "    s += ridge.score(devX, devY)\n",
    "    s /= 3\n",
    "    print(s)\n",
    "    return s\n",
    "alphas = [90, 95, 100, 105, 110]\n",
    "max_val = 0\n",
    "max_a = 0\n",
    "for a in alphas:\n",
    "    temp = test(a)\n",
    "    if temp > max_val:\n",
    "        max_val = temp\n",
    "        max_a = a\n",
    "\n",
    "print()\n",
    "print(max_val, max_a)"
   ]
  },
  {
   "cell_type": "code",
   "execution_count": 5,
   "metadata": {},
   "outputs": [
    {
     "name": "stdout",
     "output_type": "stream",
     "text": [
      "(10000, 3150)\n",
      "(10000, 2776)\n",
      "(2000, 3150)\n",
      "Output written!\n"
     ]
    }
   ],
   "source": [
    "trainX = np.concatenate((t_train_bow_intersection, f_train, fi_train), axis=1)\n",
    "print(trainX.shape)\n",
    "trainY = d_train_bow_intersection\n",
    "print(trainY.shape)\n",
    "testX = np.concatenate((t_test_bow_intersection, f_test, fi_test), axis=1)\n",
    "print(testX.shape)\n",
    "query = d_test_bow_intersection\n",
    "testY = Ridge(alpha=110).fit(trainX, trainY).predict(testX)\n",
    "output_prediction(testY, 'output/ridge_regression_alpha110_intersection_submission.csv')\n",
    "# slightly worse than alpha=100"
   ]
  },
  {
   "cell_type": "code",
   "execution_count": 15,
   "metadata": {},
   "outputs": [
    {
     "name": "stdout",
     "output_type": "stream",
     "text": [
      "(10000, 3150)\n",
      "(10000, 2776)\n",
      "(2000, 3150)\n",
      "0.342549805717546\n",
      "0.3424544788603109\n",
      "0.33910741308968245\n",
      "0.34214257766717443\n",
      "0.3420135844849383\n",
      "0.3386187833761429\n",
      "0.34097577748783514\n",
      "0.34081869708526\n",
      "0.33738001498001374\n"
     ]
    }
   ],
   "source": [
    "trainX = np.concatenate((t_train_bow_intersection_no_idf, f_train, fi_train), axis=1)\n",
    "print(trainX.shape)\n",
    "trainY = d_train_bow_intersection_no_idf\n",
    "print(trainY.shape)\n",
    "testX = np.concatenate((t_test_bow_intersection_no_idf, f_test, fi_test), axis=1)\n",
    "print(testX.shape)\n",
    "query = d_test_bow_intersection_no_idf\n",
    "\n",
    "copyX, devX, copyY, devY = train_test_split(trainX, trainY, test_size=0.2, random_state=42)\n",
    "ridge = Ridge(alpha=110).fit(copyX,copyY)\n",
    "print(ridge.score(devX, devY))\n",
    "\n",
    "copyX, devX, copyY, devY = train_test_split(trainX, trainY, test_size=0.2, random_state=785)\n",
    "ridge = Ridge(alpha=110).fit(copyX,copyY)\n",
    "print(ridge.score(devX, devY))\n",
    "\n",
    "copyX, devX, copyY, devY = train_test_split(trainX, trainY, test_size=0.2, random_state=349)\n",
    "ridge = Ridge(alpha=110).fit(copyX,copyY)\n",
    "print(ridge.score(devX, devY))\n",
    "\n",
    "copyX, devX, copyY, devY = train_test_split(trainX, trainY, test_size=0.2, random_state=42)\n",
    "ridge = Ridge(alpha=125).fit(copyX,copyY)\n",
    "print(ridge.score(devX, devY))\n",
    "\n",
    "copyX, devX, copyY, devY = train_test_split(trainX, trainY, test_size=0.2, random_state=785)\n",
    "ridge = Ridge(alpha=125).fit(copyX,copyY)\n",
    "print(ridge.score(devX, devY))\n",
    "\n",
    "copyX, devX, copyY, devY = train_test_split(trainX, trainY, test_size=0.2, random_state=349)\n",
    "ridge = Ridge(alpha=125).fit(copyX,copyY)\n",
    "print(ridge.score(devX, devY))\n",
    "\n",
    "copyX, devX, copyY, devY = train_test_split(trainX, trainY, test_size=0.2, random_state=42)\n",
    "ridge = Ridge(alpha=150).fit(copyX,copyY)\n",
    "print(ridge.score(devX, devY))\n",
    "\n",
    "copyX, devX, copyY, devY = train_test_split(trainX, trainY, test_size=0.2, random_state=785)\n",
    "ridge = Ridge(alpha=150).fit(copyX,copyY)\n",
    "print(ridge.score(devX, devY))\n",
    "\n",
    "copyX, devX, copyY, devY = train_test_split(trainX, trainY, test_size=0.2, random_state=349)\n",
    "ridge = Ridge(alpha=150).fit(copyX,copyY)\n",
    "print(ridge.score(devX, devY))"
   ]
  },
  {
   "cell_type": "code",
   "execution_count": 12,
   "metadata": {},
   "outputs": [
    {
     "name": "stdout",
     "output_type": "stream",
     "text": [
      "(10000, 3150)\n",
      "(10000, 7077)\n",
      "(2000, 3150)\n",
      "0.2582717181697155\n",
      "0.2622434856998263\n",
      "0.260291936128236\n",
      "0.27222345706680734\n",
      "0.27559833951732327\n",
      "0.2734908641883313\n",
      "0.27533492815896005\n",
      "0.27829532219716996\n",
      "0.2761078573191877\n"
     ]
    }
   ],
   "source": [
    "trainX = np.concatenate((t_train_bow, f_train, fi_train), axis=1)\n",
    "print(trainX.shape)\n",
    "trainY = d_train_bow\n",
    "print(trainY.shape)\n",
    "testX = np.concatenate((t_test_bow, f_test, fi_test), axis=1)\n",
    "print(testX.shape)\n",
    "query = d_test_bow\n",
    "\n",
    "copyX, devX, copyY, devY = train_test_split(trainX, trainY, test_size=0.2, random_state=42)\n",
    "ridge = Ridge(alpha=50).fit(copyX,copyY)\n",
    "print(ridge.score(devX, devY))\n",
    "\n",
    "copyX, devX, copyY, devY = train_test_split(trainX, trainY, test_size=0.2, random_state=785)\n",
    "ridge = Ridge(alpha=50).fit(copyX,copyY)\n",
    "print(ridge.score(devX, devY))\n",
    "\n",
    "copyX, devX, copyY, devY = train_test_split(trainX, trainY, test_size=0.2, random_state=349)\n",
    "ridge = Ridge(alpha=50).fit(copyX,copyY)\n",
    "print(ridge.score(devX, devY))\n",
    "\n",
    "copyX, devX, copyY, devY = train_test_split(trainX, trainY, test_size=0.2, random_state=42)\n",
    "ridge = Ridge(alpha=100).fit(copyX,copyY)\n",
    "print(ridge.score(devX, devY))\n",
    "\n",
    "copyX, devX, copyY, devY = train_test_split(trainX, trainY, test_size=0.2, random_state=785)\n",
    "ridge = Ridge(alpha=100).fit(copyX,copyY)\n",
    "print(ridge.score(devX, devY))\n",
    "\n",
    "copyX, devX, copyY, devY = train_test_split(trainX, trainY, test_size=0.2, random_state=349)\n",
    "ridge = Ridge(alpha=100).fit(copyX,copyY)\n",
    "print(ridge.score(devX, devY))\n",
    "\n",
    "copyX, devX, copyY, devY = train_test_split(trainX, trainY, test_size=0.2, random_state=42)\n",
    "ridge = Ridge(alpha=150).fit(copyX,copyY)\n",
    "print(ridge.score(devX, devY))\n",
    "\n",
    "copyX, devX, copyY, devY = train_test_split(trainX, trainY, test_size=0.2, random_state=785)\n",
    "ridge = Ridge(alpha=150).fit(copyX,copyY)\n",
    "print(ridge.score(devX, devY))\n",
    "\n",
    "copyX, devX, copyY, devY = train_test_split(trainX, trainY, test_size=0.2, random_state=349)\n",
    "ridge = Ridge(alpha=150).fit(copyX,copyY)\n",
    "print(ridge.score(devX, devY))"
   ]
  },
  {
   "cell_type": "code",
   "execution_count": 13,
   "metadata": {},
   "outputs": [
    {
     "name": "stdout",
     "output_type": "stream",
     "text": [
      "(10000, 3150)\n",
      "(10000, 7077)\n",
      "(2000, 3150)\n",
      "0.32902569456379316\n",
      "0.3290880444550217\n",
      "0.3256057037564996\n",
      "0.33564799996316125\n",
      "0.3356314822945693\n",
      "0.3320555819806721\n",
      "0.334210158250084\n",
      "0.3341370092259414\n",
      "0.33047073305774544\n"
     ]
    }
   ],
   "source": [
    "trainX = np.concatenate((t_train_bow_no_idf, f_train, fi_train), axis=1)\n",
    "print(trainX.shape)\n",
    "trainY = d_train_bow_no_idf\n",
    "print(trainY.shape)\n",
    "testX = np.concatenate((t_test_bow_no_idf, f_test, fi_test), axis=1)\n",
    "print(testX.shape)\n",
    "query = d_test_bow_no_idf\n",
    "\n",
    "copyX, devX, copyY, devY = train_test_split(trainX, trainY, test_size=0.2, random_state=42)\n",
    "ridge = Ridge(alpha=50).fit(copyX,copyY)\n",
    "print(ridge.score(devX, devY))\n",
    "\n",
    "copyX, devX, copyY, devY = train_test_split(trainX, trainY, test_size=0.2, random_state=785)\n",
    "ridge = Ridge(alpha=50).fit(copyX,copyY)\n",
    "print(ridge.score(devX, devY))\n",
    "\n",
    "copyX, devX, copyY, devY = train_test_split(trainX, trainY, test_size=0.2, random_state=349)\n",
    "ridge = Ridge(alpha=50).fit(copyX,copyY)\n",
    "print(ridge.score(devX, devY))\n",
    "\n",
    "copyX, devX, copyY, devY = train_test_split(trainX, trainY, test_size=0.2, random_state=42)\n",
    "ridge = Ridge(alpha=100).fit(copyX,copyY)\n",
    "print(ridge.score(devX, devY))\n",
    "\n",
    "copyX, devX, copyY, devY = train_test_split(trainX, trainY, test_size=0.2, random_state=785)\n",
    "ridge = Ridge(alpha=100).fit(copyX,copyY)\n",
    "print(ridge.score(devX, devY))\n",
    "\n",
    "copyX, devX, copyY, devY = train_test_split(trainX, trainY, test_size=0.2, random_state=349)\n",
    "ridge = Ridge(alpha=100).fit(copyX,copyY)\n",
    "print(ridge.score(devX, devY))\n",
    "\n",
    "copyX, devX, copyY, devY = train_test_split(trainX, trainY, test_size=0.2, random_state=42)\n",
    "ridge = Ridge(alpha=150).fit(copyX,copyY)\n",
    "print(ridge.score(devX, devY))\n",
    "\n",
    "copyX, devX, copyY, devY = train_test_split(trainX, trainY, test_size=0.2, random_state=785)\n",
    "ridge = Ridge(alpha=150).fit(copyX,copyY)\n",
    "print(ridge.score(devX, devY))\n",
    "\n",
    "copyX, devX, copyY, devY = train_test_split(trainX, trainY, test_size=0.2, random_state=349)\n",
    "ridge = Ridge(alpha=150).fit(copyX,copyY)\n",
    "print(ridge.score(devX, devY))"
   ]
  }
 ],
 "metadata": {
  "kernelspec": {
   "display_name": "conda_python3",
   "language": "python",
   "name": "conda_python3"
  },
  "language_info": {
   "codemirror_mode": {
    "name": "ipython",
    "version": 3
   },
   "file_extension": ".py",
   "mimetype": "text/x-python",
   "name": "python",
   "nbconvert_exporter": "python",
   "pygments_lexer": "ipython3",
   "version": "3.6.5"
  }
 },
 "nbformat": 4,
 "nbformat_minor": 2
}
