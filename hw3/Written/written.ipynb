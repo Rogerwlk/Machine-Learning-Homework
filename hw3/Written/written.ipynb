{
 "cells": [
  {
   "cell_type": "code",
   "execution_count": 4,
   "metadata": {},
   "outputs": [],
   "source": [
    "import numpy as np\n",
    "from numpy.linalg import eig\n",
    "from numpy.linalg import svd"
   ]
  },
  {
   "cell_type": "code",
   "execution_count": 5,
   "metadata": {},
   "outputs": [],
   "source": [
    "M = np.matrix([[1,0,3],[3,7,2],[2,-2,8],[0,-1,1],[5,8,7]])\n",
    "M_t = np.transpose(M)"
   ]
  },
  {
   "cell_type": "code",
   "execution_count": 6,
   "metadata": {},
   "outputs": [
    {
     "name": "stdout",
     "output_type": "stream",
     "text": [
      "[[ 10   9  26   3  26]\n",
      " [  9  62   8  -5  85]\n",
      " [ 26   8  72  10  50]\n",
      " [  3  -5  10   2  -1]\n",
      " [ 26  85  50  -1 138]]\n",
      "[[ 39  57  60]\n",
      " [ 57 118  53]\n",
      " [ 60  53 127]]\n",
      "[2.14670489e+02 9.32587341e-15 6.93295108e+01]\n",
      "[[ 0.42615127  0.90453403 -0.01460404]\n",
      " [ 0.61500884 -0.30151134 -0.72859799]\n",
      " [ 0.66344497 -0.30151134  0.68478587]]\n",
      "[ 2.14670489e+02 -8.88178420e-16  6.93295108e+01 -3.34838281e-15\n",
      "  7.47833227e-16]\n",
      "[[-0.16492942 -0.95539856  0.24497323 -0.54001979 -0.78501713]\n",
      " [-0.47164732 -0.03481209 -0.45330644 -0.62022234  0.30294097]\n",
      " [-0.33647055  0.27076072  0.82943965 -0.12704172  0.2856551 ]\n",
      " [-0.00330585  0.04409532  0.16974659  0.16015949  0.43709105]\n",
      " [-0.79820031  0.10366268 -0.13310656  0.53095405 -0.13902319]]\n"
     ]
    }
   ],
   "source": [
    "print(M @ M_t)\n",
    "print(M_t @ M)\n",
    "val, vec = eig(M_t @ M)\n",
    "print(val)\n",
    "print(vec)\n",
    "\n",
    "val, vec = eig(M @ M_t)\n",
    "print(val)\n",
    "print(vec)"
   ]
  },
  {
   "cell_type": "code",
   "execution_count": 7,
   "metadata": {},
   "outputs": [
    {
     "name": "stdout",
     "output_type": "stream",
     "text": [
      "[[-0.16492942 -0.24497323  0.9482579   0.09864471 -0.06214956]\n",
      " [-0.47164732  0.45330644 -0.02261948  0.08103373 -0.75165416]\n",
      " [-0.33647055 -0.82943965 -0.27341434 -0.18350729 -0.3006445 ]\n",
      " [-0.00330585 -0.16974659 -0.14522096  0.97468061  0.00915155]\n",
      " [-0.79820031  0.13310656 -0.06671416  0.00505374  0.58368021]]\n",
      "[1.46516378e+01 8.32643446e+00 2.99921582e-16]\n",
      "[[-0.42615127  0.01460404 -0.90453403]\n",
      " [-0.61500884  0.72859799  0.30151134]\n",
      " [-0.66344497 -0.68478587  0.30151134]]\n"
     ]
    }
   ],
   "source": [
    "u, sigma, v_t = svd(M)\n",
    "print(u)\n",
    "print(sigma)\n",
    "print(np.transpose(v_t))"
   ]
  },
  {
   "cell_type": "code",
   "execution_count": 8,
   "metadata": {},
   "outputs": [
    {
     "name": "stdout",
     "output_type": "stream",
     "text": [
      "[[ -2.41648616]\n",
      " [ -6.91040562]\n",
      " [ -4.92984458]\n",
      " [ -0.04843612]\n",
      " [-11.69494183]]\n"
     ]
    }
   ],
   "source": [
    "r_u = u[:,:1]\n",
    "r_sigma = [sigma[:1]]\n",
    "r_v_t = v_t[:1,]\n",
    "print(M @ np.transpose(r_v_t))"
   ]
  }
 ],
 "metadata": {
  "kernelspec": {
   "display_name": "Python 3",
   "language": "python",
   "name": "python3"
  },
  "language_info": {
   "codemirror_mode": {
    "name": "ipython",
    "version": 3
   },
   "file_extension": ".py",
   "mimetype": "text/x-python",
   "name": "python",
   "nbconvert_exporter": "python",
   "pygments_lexer": "ipython3",
   "version": "3.6.5"
  }
 },
 "nbformat": 4,
 "nbformat_minor": 2
}
