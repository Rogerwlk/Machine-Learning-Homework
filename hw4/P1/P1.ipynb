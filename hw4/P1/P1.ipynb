{
 "cells": [
  {
   "cell_type": "code",
   "execution_count": 10,
   "metadata": {},
   "outputs": [],
   "source": [
    "import cv2\n",
    "import numpy as np\n",
    "import random\n",
    "from sklearn.ensemble import RandomForestRegressor\n",
    "from sklearn.neighbors import KNeighborsClassifier"
   ]
  },
  {
   "cell_type": "code",
   "execution_count": 11,
   "metadata": {},
   "outputs": [
    {
     "name": "stdout",
     "output_type": "stream",
     "text": [
      "412 620 255440\n"
     ]
    }
   ],
   "source": [
    "# a\n",
    "name = 'Trump'\n",
    "img = cv2.imread(name+'.jpg', 1) # 1 means read as colorscale\n",
    "m = len(img)\n",
    "n = len(img[0])\n",
    "print(m,n,m*n)"
   ]
  },
  {
   "cell_type": "code",
   "execution_count": 12,
   "metadata": {},
   "outputs": [],
   "source": [
    "# b, c\n",
    "random.seed(42)\n",
    "temp = [(x, y) for x in range(m) for y in range(n)]\n",
    "sample_x = random.sample(temp, 3000)\n",
    "sample_y = [img[t[0]][t[1]] for t in sample_x]"
   ]
  },
  {
   "cell_type": "code",
   "execution_count": 20,
   "metadata": {},
   "outputs": [
    {
     "name": "stdout",
     "output_type": "stream",
     "text": [
      "412 620 [61.81 12.42  0.23]\n"
     ]
    }
   ],
   "source": [
    "# d\n",
    "# default split until all leaves are pure or less than 2 samples\n",
    "rf_reg = RandomForestRegressor(random_state=42, n_estimators=100)\n",
    "rf_reg.fit(sample_x, sample_y)\n",
    "rf_img = rf_reg.predict(temp)\n",
    "rf_img = np.reshape(rf_img, (m,n,3))\n",
    "print(len(rf_img), len(rf_img[0]), rf_img[0][0])\n",
    "cv2.imwrite('RF_'+name+'.jpg', rf_img)\n",
    "del rf_reg, rf_img"
   ]
  },
  {
   "cell_type": "code",
   "execution_count": 14,
   "metadata": {},
   "outputs": [],
   "source": [
    "def RF_draw(depth, tree_num):\n",
    "    rf_reg = RandomForestRegressor(max_depth=depth, random_state=42, n_estimators=tree_num)\n",
    "    rf_reg.fit(sample_x, sample_y)\n",
    "    rf_img = rf_reg.predict(temp)\n",
    "    rf_img = np.reshape(rf_img, (m,n,3))\n",
    "    cv2.imwrite('RF_'+name+'_depth'+str(depth)+'trees'+str(tree_num)+'.jpg', rf_img)"
   ]
  },
  {
   "cell_type": "code",
   "execution_count": 15,
   "metadata": {},
   "outputs": [],
   "source": [
    "# e (i, ii)\n",
    "for depth in [1,2,3,5,10,15]:\n",
    "    RF_draw(depth, 1)\n",
    "for tree_num in [1,3,5,10,100]:\n",
    "    RF_draw(7, tree_num)"
   ]
  },
  {
   "cell_type": "code",
   "execution_count": 16,
   "metadata": {},
   "outputs": [],
   "source": [
    "# e (iii)\n",
    "nn = KNeighborsClassifier(n_neighbors=1)\n",
    "nn.fit(sample_x, sample_y)\n",
    "nn_img = nn.predict(temp)\n",
    "nn_img = np.reshape(nn_img, (m,n,3))\n",
    "cv2.imwrite('1NN_'+name+'.jpg', nn_img)\n",
    "del nn_img, nn"
   ]
  },
  {
   "cell_type": "code",
   "execution_count": 17,
   "metadata": {},
   "outputs": [],
   "source": [
    "# e (iv)\n",
    "RF_draw(10, 20)\n",
    "RF_draw(20, 40)\n",
    "RF_draw(40, 80)"
   ]
  }
 ],
 "metadata": {
  "kernelspec": {
   "display_name": "Python 3",
   "language": "python",
   "name": "python3"
  },
  "language_info": {
   "codemirror_mode": {
    "name": "ipython",
    "version": 3
   },
   "file_extension": ".py",
   "mimetype": "text/x-python",
   "name": "python",
   "nbconvert_exporter": "python",
   "pygments_lexer": "ipython3",
   "version": "3.6.5"
  }
 },
 "nbformat": 4,
 "nbformat_minor": 2
}
