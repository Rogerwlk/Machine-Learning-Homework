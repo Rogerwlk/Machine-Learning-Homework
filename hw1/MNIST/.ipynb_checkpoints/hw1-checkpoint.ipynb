{
 "cells": [
  {
   "cell_type": "code",
   "execution_count": 6,
   "metadata": {},
   "outputs": [],
   "source": [
    "import matplotlib.pyplot as plt\n",
    "import heapq\n",
    "import numpy as np\n",
    "from matplotlib.ticker import PercentFormatter\n",
    "from sklearn.model_selection import train_test_split\n",
    "from collections import Counter\n",
    "from scipy.spatial.distance import cdist\n",
    "\n",
    "f = open('data/train.csv', 'r')\n",
    "header = f.readline()\n",
    "images = []\n",
    "labels = []\n",
    "sample_digits = {}\n",
    "\n",
    "# read file, draw one sample digit and store sample digit\n",
    "for line in f:\n",
    "    temp = line.strip().split(',')\n",
    "    temp = [int(x) for x in temp]\n",
    "    labels.append(temp[0])\n",
    "    images.append(np.array(temp[1:]))\n",
    "    if temp[0] not in sample_digits:\n",
    "        sample_digits[temp[0]] = temp[1:]\n",
    "f.close()"
   ]
  },
  {
   "cell_type": "code",
   "execution_count": 7,
   "metadata": {},
   "outputs": [
    {
     "data": {
      "text/plain": [
       "<Figure size 432x288 with 0 Axes>"
      ]
     },
     "metadata": {},
     "output_type": "display_data"
    }
   ],
   "source": [
    "# question b\n",
    "# set up 10 subplots for 10 digits\n",
    "fig = plt.figure(tight_layout=True)\n",
    "ax = [fig.add_subplot(2, 5, x) for x in range(1, 11)]\n",
    "for a in ax:\n",
    "    a.axes.get_xaxis().set_visible(False)\n",
    "    a.axes.get_yaxis().set_visible(False)\n",
    "\n",
    "for i in range(10):\n",
    "    img = np.reshape(sample_digits[i], (28, 28))\n",
    "    ax[i].imshow(img, cmap='gray')\n",
    "fig.savefig('sample_digits.png')\n",
    "fig.clf()"
   ]
  },
  {
   "cell_type": "code",
   "execution_count": 8,
   "metadata": {},
   "outputs": [
    {
     "data": {
      "text/plain": [
       "<Figure size 432x288 with 0 Axes>"
      ]
     },
     "metadata": {},
     "output_type": "display_data"
    }
   ],
   "source": [
    "# question c\n",
    "# ref: https://matplotlib.org/gallery/statistics/hist.html\n",
    "fig, ax = plt.subplots(tight_layout=True)\n",
    "ax.hist(labels, bins=[x for x in range(11)], density=True) # normalized histogram\n",
    "ax.yaxis.set_major_formatter(PercentFormatter(xmax=1)) # set y-axis\n",
    "fig.savefig('digit_distributions.png')\n",
    "fig.clf()"
   ]
  },
  {
   "cell_type": "code",
   "execution_count": 9,
   "metadata": {},
   "outputs": [],
   "source": [
    "# question d\n",
    "f = open('sample_digits_closest.txt', 'w')\n",
    "min_dist = {}\n",
    "for i in range(10):\n",
    "    digit = sample_digits[i]\n",
    "    min_dist[i] = (0, float('inf'))\n",
    "    for j in range(len(images)):\n",
    "        dist = np.linalg.norm(digit-images[j])\n",
    "        if dist != 0 and dist < min_dist[i][1]:\n",
    "            min_dist[i] = (labels[j], dist)\n",
    "    if i != min_dist[i][0]:\n",
    "        f.write(str(i)+' closest to '+str(min_dist[i][0])+' with distance '+str(min_dist[i][1])+'*\\n')\n",
    "    else:\n",
    "        f.write(str(i)+' closest to '+str(min_dist[i][0])+' with distance '+str(min_dist[i][1])+'\\n')\n",
    "f.close()"
   ]
  },
  {
   "cell_type": "code",
   "execution_count": 10,
   "metadata": {},
   "outputs": [],
   "source": [
    "# question e\n",
    "# create two groups for digits 0 and 1\n",
    "zero_images = []\n",
    "one_images = []\n",
    "zero_labels = []\n",
    "one_labels = []\n",
    "for i in range(len(images)):\n",
    "    if labels[i] == 0:\n",
    "        zero_images.append(images[i])\n",
    "        zero_labels.append(labels[i])\n",
    "    elif labels[i] == 1:\n",
    "        one_images.append(images[i])\n",
    "        one_labels.append(labels[i])"
   ]
  },
  {
   "cell_type": "code",
   "execution_count": 11,
   "metadata": {},
   "outputs": [],
   "source": [
    "# calculate genuine distance\n",
    "t_match = []\n",
    "temp = cdist(zero_images, zero_images, 'euclidean')\n",
    "for (i, row) in enumerate(temp):\n",
    "    t_match += list(row[i+1:])\n",
    "temp = cdist(one_images, one_images, 'euclidean')\n",
    "for (i, row) in enumerate(temp):\n",
    "    t_match += list(row[i+1:])"
   ]
  },
  {
   "cell_type": "code",
   "execution_count": 12,
   "metadata": {},
   "outputs": [],
   "source": [
    "# calculate imposter distance\n",
    "f_match = []\n",
    "temp = cdist(one_images, zero_images, 'euclidean')\n",
    "for (i, row) in enumerate(temp):\n",
    "    f_match += list(row)"
   ]
  },
  {
   "cell_type": "code",
   "execution_count": 13,
   "metadata": {},
   "outputs": [
    {
     "data": {
      "text/plain": [
       "<Figure size 432x288 with 0 Axes>"
      ]
     },
     "metadata": {},
     "output_type": "display_data"
    }
   ],
   "source": [
    "# draw histogram\n",
    "plt.hist(t_match, bins=100, alpha = 0.5)\n",
    "plt.hist(f_match, bins=100, alpha = 0.5)\n",
    "plt.savefig('genuine_imposter.png')\n",
    "plt.clf()"
   ]
  },
  {
   "cell_type": "code",
   "execution_count": 14,
   "metadata": {},
   "outputs": [],
   "source": [
    "# question f\n",
    "t_match = sorted(t_match)\n",
    "f_match = sorted(f_match)"
   ]
  },
  {
   "cell_type": "code",
   "execution_count": 15,
   "metadata": {},
   "outputs": [],
   "source": [
    "# calculate 400 pairs of true positive rate and false positive rate\n",
    "# calculate equal error rate ERR and baseline accuracy\n",
    "t_size, f_size = len(t_match), len(f_match)\n",
    "ma = max(t_match[-1], f_match[-1])\n",
    "mi = min(t_match[0], f_match[0])\n",
    "interval = (ma - mi) / 400 # 400 pairs\n",
    "\n",
    "tpr = []\n",
    "fpr = []\n",
    "tc, fc = t_size - 1, f_size - 1\n",
    "err = None\n",
    "while ma >= mi:\n",
    "    while tc >= 0 and t_match[tc] > ma:\n",
    "        tc -= 1\n",
    "    while fc >= 0 and f_match[fc] > ma:\n",
    "        fc -= 1\n",
    "    fpr.append((t_size - tc) / t_size)\n",
    "    tpr.append((f_size - fc) / f_size)\n",
    "    if err == None and fpr[-1] + tpr[-1] >= 1:\n",
    "        err = fpr[-1]\n",
    "    ma -= interval\n",
    "baseline = max(len(zero_labels), len(one_labels)) / (len(zero_labels) + len(one_labels))"
   ]
  },
  {
   "cell_type": "code",
   "execution_count": 37,
   "metadata": {},
   "outputs": [
    {
     "data": {
      "text/plain": [
       "<Figure size 432x288 with 0 Axes>"
      ]
     },
     "metadata": {},
     "output_type": "display_data"
    }
   ],
   "source": [
    "# draw ROC curve\n",
    "plt.plot(fpr, tpr)\n",
    "plt.plot([0, 1], [0, 1], ls=\"--\", c=\"0.3\")\n",
    "plt.xlabel('fpr')\n",
    "plt.ylabel('tpr')\n",
    "plt.title('ROC curve with ERR = '+str(round(err,5))+', baseline accuracy = '+str(round(baseline, 5)))\n",
    "plt.savefig('ROC_curve.png')\n",
    "plt.clf()"
   ]
  },
  {
   "cell_type": "code",
   "execution_count": 19,
   "metadata": {},
   "outputs": [],
   "source": [
    "# question g, h\n",
    "image_train, image_test, label_train, label_test = train_test_split(images, labels, test_size=0.5)"
   ]
  },
  {
   "cell_type": "code",
   "execution_count": 20,
   "metadata": {},
   "outputs": [],
   "source": [
    "temp = cdist(image_test, image_train, 'euclidean')"
   ]
  },
  {
   "cell_type": "code",
   "execution_count": 21,
   "metadata": {},
   "outputs": [],
   "source": [
    "predict = []\n",
    "for row in temp:\n",
    "    row = [(row[i], i) for i in range(len(row))]\n",
    "    kNN = heapq.nsmallest(10, row)\n",
    "    neighbors = [label_train[n[1]] for n in kNN]\n",
    "    predict.append(Counter(neighbors).most_common(1)[0][0])"
   ]
  },
  {
   "cell_type": "code",
   "execution_count": 23,
   "metadata": {},
   "outputs": [],
   "source": [
    "# calculate data accuracy\n",
    "correct = 0\n",
    "for i in range(len(label_test)):\n",
    "    if label_test[i] == predict[i]:\n",
    "        correct += 1\n",
    "# calculate confusion matrix\n",
    "confusion_matrix = [[0 for x in range(10)] for y in range(10)]\n",
    "for i in range(len(label_test)):\n",
    "    confusion_matrix[predict[i]][label_test[i]] += 1"
   ]
  },
  {
   "cell_type": "code",
   "execution_count": 33,
   "metadata": {},
   "outputs": [],
   "source": [
    "f = open('confusion_matrix.txt', 'w')\n",
    "f.write('split training data accuracy: '+str(round(correct/len(label_test), 5))+'\\n')\n",
    "f.write('   '+'  '.join([str(i) for i in range(10)]))\n",
    "f.write('\\n')\n",
    "for (i, row) in enumerate(confusion_matrix):\n",
    "    f.write(str(i)+'  ')\n",
    "    f.write('  '.join([str(val) for val in row]))\n",
    "    f.write('\\n')\n",
    "f.close()"
   ]
  },
  {
   "cell_type": "code",
   "execution_count": 2,
   "metadata": {},
   "outputs": [],
   "source": [
    "# question j\n",
    "f = open('data/test.csv', 'r')\n",
    "test_images = []\n",
    "\n",
    "header = f.readline()\n",
    "for line in f:\n",
    "    temp = line.strip().split(',')\n",
    "    temp = [int(x) for x in temp]\n",
    "    test_images.append(temp)\n",
    "f.close()"
   ]
  },
  {
   "cell_type": "code",
   "execution_count": 3,
   "metadata": {},
   "outputs": [],
   "source": [
    "temp = cdist(test_images, images, 'euclidean')"
   ]
  },
  {
   "cell_type": "code",
   "execution_count": 6,
   "metadata": {},
   "outputs": [],
   "source": [
    "predict = []\n",
    "for row in temp:\n",
    "    row = [(row[i], i) for i in range(len(row))]\n",
    "    kNN = heapq.nsmallest(10, row)\n",
    "    neighbors = [labels[n[1]] for n in kNN]\n",
    "    predict.append(Counter(neighbors).most_common(1)[0][0])"
   ]
  },
  {
   "cell_type": "code",
   "execution_count": 7,
   "metadata": {},
   "outputs": [],
   "source": [
    "f = open('result.csv', 'w')\n",
    "f.write('ImageId,Label\\n')\n",
    "i = 0\n",
    "for val in predict:\n",
    "    i += 1\n",
    "    f.write(str(i)+','+str(val)+'\\n')\n",
    "f.close()"
   ]
  },
  {
   "cell_type": "code",
   "execution_count": null,
   "metadata": {},
   "outputs": [],
   "source": []
  }
 ],
 "metadata": {
  "kernelspec": {
   "display_name": "Python 3",
   "language": "python",
   "name": "python3"
  },
  "language_info": {
   "codemirror_mode": {
    "name": "ipython",
    "version": 3
   },
   "file_extension": ".py",
   "mimetype": "text/x-python",
   "name": "python",
   "nbconvert_exporter": "python",
   "pygments_lexer": "ipython3",
   "version": "3.6.5"
  }
 },
 "nbformat": 4,
 "nbformat_minor": 2
}
