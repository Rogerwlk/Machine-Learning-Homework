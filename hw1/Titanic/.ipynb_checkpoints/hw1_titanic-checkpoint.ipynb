{
 "cells": [
  {
   "cell_type": "code",
   "execution_count": 11,
   "metadata": {},
   "outputs": [],
   "source": [
    "from sklearn.linear_model import LogisticRegression\n",
    "import statistics\n",
    "import re\n",
    "\n",
    "f = open('train.csv', 'r')\n",
    "header = f.readline()\n",
    "\n",
    "survive = []\n",
    "ticket_class = []\n",
    "sex = []\n",
    "age = []\n",
    "sibsp = []\n",
    "fare = []\n",
    "\n",
    "for line in f:\n",
    "    temp = line.strip().split(',')\n",
    "    survive.append(int(temp[1]))\n",
    "    ticket_class.append(int(temp[2]))\n",
    "    if temp[5] == 'male':\n",
    "        sex.append(0)\n",
    "    else:\n",
    "        sex.append(1)\n",
    "    age.append(temp[6])\n",
    "    sibsp.append(int(temp[7]))\n",
    "    fare.append(float(temp[10]))\n",
    "f.close()"
   ]
  },
  {
   "cell_type": "code",
   "execution_count": 16,
   "metadata": {},
   "outputs": [],
   "source": [
    "age_copy = [float(x) for x in age if x != '']\n",
    "\n",
    "m = float(statistics.median(age_copy))\n",
    "for i in range(len(age)):\n",
    "    if age[i] == '':\n",
    "        age[i] = m\n",
    "    else:\n",
    "        age[i] = float(age[i])"
   ]
  },
  {
   "cell_type": "code",
   "execution_count": 13,
   "metadata": {},
   "outputs": [],
   "source": [
    "info = []\n",
    "for i in range(len(ticket_class)):\n",
    "    info.append([ticket_class[i], sex[i], age[i], sibsp[i], fare[i]])"
   ]
  },
  {
   "cell_type": "raw",
   "metadata": {},
   "source": [
    "lr = LogisticRegression()\n",
    "lr.fit(info, survive)"
   ]
  },
  {
   "cell_type": "code",
   "execution_count": 21,
   "metadata": {},
   "outputs": [
    {
     "name": "stdout",
     "output_type": "stream",
     "text": [
      "['892', '3', '\"Kelly', ' Mr. James\"', 'male', '34.5', '0', '0', '330911', '7.8292', '', 'Q']\n"
     ]
    },
    {
     "ename": "ValueError",
     "evalue": "could not convert string to float: 'male'",
     "output_type": "error",
     "traceback": [
      "\u001b[1;31m---------------------------------------------------------------------------\u001b[0m",
      "\u001b[1;31mValueError\u001b[0m                                Traceback (most recent call last)",
      "\u001b[1;32m<ipython-input-21-3ce9b2cc1856>\u001b[0m in \u001b[0;36m<module>\u001b[1;34m()\u001b[0m\n\u001b[0;32m     19\u001b[0m         \u001b[0mage_t\u001b[0m\u001b[1;33m.\u001b[0m\u001b[0mappend\u001b[0m\u001b[1;33m(\u001b[0m\u001b[0mm\u001b[0m\u001b[1;33m)\u001b[0m\u001b[1;33m\u001b[0m\u001b[0m\n\u001b[0;32m     20\u001b[0m     \u001b[1;32melse\u001b[0m\u001b[1;33m:\u001b[0m\u001b[1;33m\u001b[0m\u001b[0m\n\u001b[1;32m---> 21\u001b[1;33m         \u001b[0mage_t\u001b[0m\u001b[1;33m.\u001b[0m\u001b[0mappend\u001b[0m\u001b[1;33m(\u001b[0m\u001b[0mfloat\u001b[0m\u001b[1;33m(\u001b[0m\u001b[0mtemp\u001b[0m\u001b[1;33m[\u001b[0m\u001b[1;36m4\u001b[0m\u001b[1;33m]\u001b[0m\u001b[1;33m)\u001b[0m\u001b[1;33m)\u001b[0m\u001b[1;33m\u001b[0m\u001b[0m\n\u001b[0m\u001b[0;32m     22\u001b[0m     \u001b[0msibsp_t\u001b[0m\u001b[1;33m.\u001b[0m\u001b[0mappend\u001b[0m\u001b[1;33m(\u001b[0m\u001b[0mint\u001b[0m\u001b[1;33m(\u001b[0m\u001b[0mtemp\u001b[0m\u001b[1;33m[\u001b[0m\u001b[1;36m5\u001b[0m\u001b[1;33m]\u001b[0m\u001b[1;33m)\u001b[0m\u001b[1;33m)\u001b[0m\u001b[1;33m\u001b[0m\u001b[0m\n\u001b[0;32m     23\u001b[0m     \u001b[0mfare_t\u001b[0m\u001b[1;33m.\u001b[0m\u001b[0mappend\u001b[0m\u001b[1;33m(\u001b[0m\u001b[0mfloat\u001b[0m\u001b[1;33m(\u001b[0m\u001b[0mtemp\u001b[0m\u001b[1;33m[\u001b[0m\u001b[1;36m8\u001b[0m\u001b[1;33m]\u001b[0m\u001b[1;33m)\u001b[0m\u001b[1;33m)\u001b[0m\u001b[1;33m\u001b[0m\u001b[0m\n",
      "\u001b[1;31mValueError\u001b[0m: could not convert string to float: 'male'"
     ]
    }
   ],
   "source": [
    "f = open('test.csv', 'r')\n",
    "header = f.readline()\n",
    "\n",
    "ticket_class_t = []\n",
    "sex_t = []\n",
    "age_t = []\n",
    "sibsp_t = []\n",
    "fare_t = []\n",
    "\n",
    "for line in f:\n",
    "    temp = line.strip().split(',')\n",
    "    ticket_class_t.append(int(temp[1]))\n",
    "    if temp[3] == 'male':\n",
    "        sex_t.append(0)\n",
    "    else:\n",
    "        sex_t.append(1)\n",
    "    print(temp)\n",
    "    if temp[4] == '':\n",
    "        age_t.append(m)\n",
    "    else:\n",
    "        age_t.append(float(temp[4]))\n",
    "    sibsp_t.append(int(temp[5]))\n",
    "    fare_t.append(float(temp[8]))\n",
    "print(age_t)\n",
    "f.close()"
   ]
  },
  {
   "cell_type": "code",
   "execution_count": null,
   "metadata": {},
   "outputs": [],
   "source": [
    "lr.predict()"
   ]
  }
 ],
 "metadata": {
  "kernelspec": {
   "display_name": "Python 3",
   "language": "python",
   "name": "python3"
  },
  "language_info": {
   "codemirror_mode": {
    "name": "ipython",
    "version": 3
   },
   "file_extension": ".py",
   "mimetype": "text/x-python",
   "name": "python",
   "nbconvert_exporter": "python",
   "pygments_lexer": "ipython3",
   "version": "3.6.5"
  }
 },
 "nbformat": 4,
 "nbformat_minor": 2
}
