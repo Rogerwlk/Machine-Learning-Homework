{
 "cells": [
  {
   "cell_type": "code",
   "execution_count": 12,
   "metadata": {},
   "outputs": [],
   "source": [
    "from sklearn.linear_model import LogisticRegression\n",
    "import statistics\n",
    "\n",
    "f = open('train.csv', 'r')\n",
    "header = f.readline()\n",
    "\n",
    "survive = []\n",
    "ticket_class = []\n",
    "sex = []\n",
    "age = []\n",
    "sibsp = []\n",
    "fare = []\n",
    "\n",
    "for line in f:\n",
    "    temp = line.strip().split(',')\n",
    "    survive.append(int(temp[1]))\n",
    "    ticket_class.append(int(temp[2]))\n",
    "    if temp[5] == 'male':\n",
    "        sex.append(0)\n",
    "    else:\n",
    "        sex.append(1)\n",
    "    age.append(temp[6])\n",
    "    sibsp.append(int(temp[7]))\n",
    "    fare.append(float(temp[10]))\n",
    "f.close()"
   ]
  },
  {
   "cell_type": "code",
   "execution_count": 13,
   "metadata": {},
   "outputs": [],
   "source": [
    "age_copy = [float(x) for x in age if x != '']\n",
    "m_age = statistics.median(age_copy)\n",
    "m_fare = statistics.median(fare)\n",
    "for i in range(len(age)):\n",
    "    if age[i] == '':\n",
    "        age[i] = m_age\n",
    "    else:\n",
    "        age[i] = float(age[i])"
   ]
  },
  {
   "cell_type": "code",
   "execution_count": 14,
   "metadata": {},
   "outputs": [],
   "source": [
    "info = []\n",
    "for i in range(len(ticket_class)):\n",
    "    info.append([sex[i], age[i], sibsp[i], fare[i]])"
   ]
  },
  {
   "cell_type": "code",
   "execution_count": 15,
   "metadata": {},
   "outputs": [],
   "source": [
    "f = open('test.csv', 'r')\n",
    "header = f.readline()\n",
    "\n",
    "id_t = []\n",
    "ticket_class_t = []\n",
    "sex_t = []\n",
    "age_t = []\n",
    "sibsp_t = []\n",
    "fare_t = []\n",
    "\n",
    "for line in f:\n",
    "    temp = line.strip().split(',')\n",
    "    id_t.append(temp[0])\n",
    "    ticket_class_t.append(int(temp[1]))\n",
    "    if temp[4] == 'male':\n",
    "        sex_t.append(0)\n",
    "    else:\n",
    "        sex_t.append(1)\n",
    "    if temp[5] == '':\n",
    "        age_t.append(m_age)\n",
    "    else:\n",
    "        age_t.append(float(temp[5]))\n",
    "    sibsp_t.append(int(temp[6]))\n",
    "    if temp[9] == '':\n",
    "        fare_t.append(m_fare)\n",
    "    else:\n",
    "        fare_t.append(float(temp[9]))\n",
    "f.close()"
   ]
  },
  {
   "cell_type": "code",
   "execution_count": 16,
   "metadata": {},
   "outputs": [],
   "source": [
    "info_t = []\n",
    "for i in range(len(ticket_class_t)):\n",
    "    info_t.append([sex_t[i], age_t[i], sibsp_t[i], fare_t[i]])"
   ]
  },
  {
   "cell_type": "code",
   "execution_count": 17,
   "metadata": {},
   "outputs": [],
   "source": [
    "lr = LogisticRegression()\n",
    "lr.fit(info, survive)\n",
    "predictions = lr.predict(info_t)"
   ]
  },
  {
   "cell_type": "code",
   "execution_count": 18,
   "metadata": {},
   "outputs": [],
   "source": [
    "f = open('result.csv', 'w')\n",
    "f.write('PassengerId,Survived\\n')\n",
    "for i in range(len(predictions)):\n",
    "    f.write(id_t[i]+','+str(predictions[i])+'\\n')\n",
    "f.close()"
   ]
  }
 ],
 "metadata": {
  "kernelspec": {
   "display_name": "Python 3",
   "language": "python",
   "name": "python3"
  },
  "language_info": {
   "codemirror_mode": {
    "name": "ipython",
    "version": 3
   },
   "file_extension": ".py",
   "mimetype": "text/x-python",
   "name": "python",
   "nbconvert_exporter": "python",
   "pygments_lexer": "ipython3",
   "version": "3.6.5"
  }
 },
 "nbformat": 4,
 "nbformat_minor": 2
}
